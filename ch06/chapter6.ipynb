{
 "cells": [
  {
   "cell_type": "markdown",
   "metadata": {},
   "source": [
    "### 6章 TD法\n",
    "\n",
    "モンテカルロ法はエピソードの「終わり」についてから出ないと、価値関数の更新ができない。<br>\n",
    "またエピソードの終わりまでの時間が長いと更新に時間がかかる。\n",
    "\n",
    "環境のモデルを使わずに、行動を一つ行うたびに価値関数を更新したい→TD法"
   ]
  },
  {
   "cell_type": "markdown",
   "metadata": {},
   "source": []
  }
 ],
 "metadata": {
  "kernelspec": {
   "display_name": "base",
   "language": "python",
   "name": "python3"
  },
  "language_info": {
   "name": "python",
   "version": "3.10.9"
  }
 },
 "nbformat": 4,
 "nbformat_minor": 2
}
